{
 "cells": [
  {
   "cell_type": "markdown",
   "metadata": {},
   "source": [
    "### Initial Observations"
   ]
  },
  {
   "cell_type": "code",
   "execution_count": 28,
   "metadata": {},
   "outputs": [
    {
     "name": "stdout",
     "output_type": "stream",
     "text": [
      "docutils==0.15.2\n",
      "gym==0.23.1\n",
      "matplotlib==3.4.3\n",
      "networkx==3.1\n",
      "numpy==1.23.5\n",
      "paramiko==2.6.0\n",
      "pettingzoo==1.24.1\n",
      "prettytable==0.7.2\n",
      "pygame==2.5.2\n",
      "pytest==7.4.2\n"
     ]
    }
   ],
   "source": [
    "!pip3 list --format=freeze | grep -E '^(pytest|pyyaml|numpy|gym|prettytable|docutils|pettingzoo|networkx|matplotlib|paramiko|pygame)=='"
   ]
  },
  {
   "cell_type": "markdown",
   "metadata": {},
   "source": [
    "Due to the complex nature of computer security, CybORG's raw observations contain a lot of information presented in a standardised format which takes the form of a series of nested dictionaries and lists. It is recommended you use prettyprint whenever printing a CybORG observation.\n",
    "\n",
    "We will begin by instantiating CybORG and looking at Red's initial observation."
   ]
  },
  {
   "cell_type": "code",
   "execution_count": 15,
   "metadata": {},
   "outputs": [
    {
     "name": "stdout",
     "output_type": "stream",
     "text": [
      "env is: sim\n",
      "env is: sim\n",
      "Agent Interfaces are: {'Blue': <CybORG.Shared.AgentInterface.AgentInterface object at 0x7f49ae1f26b0>, 'Green': <CybORG.Shared.AgentInterface.AgentInterface object at 0x7f49ae1f10c0>, 'Red': <CybORG.Shared.AgentInterface.AgentInterface object at 0x7f49ae1f2650>}\n"
     ]
    }
   ],
   "source": [
    "import random\n",
    "import inspect\n",
    "from os.path import dirname\n",
    "from pprint import pprint\n",
    "\n",
    "from CybORG import CybORG\n",
    "from CybORG.Simulator.Scenarios import FileReaderScenarioGenerator\n",
    "\n",
    "path = inspect.getfile(CybORG)\n",
    "path = dirname(path) + f'/Simulator/Scenarios/scenario_files/Scenario1b.yaml'\n",
    "sg = FileReaderScenarioGenerator(path)\n",
    "cyborg = CybORG(scenario_generator=sg)\n",
    "\n",
    "env = CybORG(sg)\n",
    "\n",
    "results = env.reset(agent='Red')\n",
    "obs = results.observation\n",
    "# pprint(obs)\n",
    "\n"
   ]
  },
  {
   "cell_type": "markdown",
   "metadata": {},
   "source": [
    "The dictionary above has two keys: 'success' and 'User0'. The success value indicates whether the previous action ran successfully, or whether it encountered an error. Since this is the start of the scenario, the success value is set to UNKNOWN.\n",
    "\n",
    "The key 'User0' is a hostid, indicating its corresponding value is data about that host. Here the hostid is equal to the name of the host, altough hostids can also be ip_addresses depending on the previous action.\n",
    "\n",
    "We will now take a closer look  examine the 'User0' dictionary."
   ]
  },
  {
   "cell_type": "code",
   "execution_count": 16,
   "metadata": {},
   "outputs": [
    {
     "name": "stdout",
     "output_type": "stream",
     "text": [
      "{'Interface': [{'IP Address': IPv4Address('10.0.239.200'),\n",
      "                'Interface Name': 'eth0',\n",
      "                'Subnet': IPv4Network('10.0.239.192/28')}],\n",
      " 'Processes': [{'PID': 3384, 'Username': 'SYSTEM'}],\n",
      " 'Sessions': [{'Agent': 'Red',\n",
      "               'ID': 0,\n",
      "               'PID': 3384,\n",
      "               'Timeout': 0,\n",
      "               'Type': <SessionType.RED_ABSTRACT_SESSION: 10>,\n",
      "               'Username': 'SYSTEM'}],\n",
      " 'System info': {'Architecture': <Architecture.x64: 2>,\n",
      "                 'Hostname': 'User0',\n",
      "                 'OSDistribution': <OperatingSystemDistribution.WINDOWS_SVR_2008: 4>,\n",
      "                 'OSType': <OperatingSystemType.WINDOWS: 2>,\n",
      "                 'OSVersion': <OperatingSystemVersion.W6_1_7601: 13>,\n",
      "                 'position': (28, 30)}}\n"
     ]
    }
   ],
   "source": [
    "pprint(obs['User0'])"
   ]
  },
  {
   "cell_type": "markdown",
   "metadata": {},
   "source": [
    "The 'User0' dictionary contains information about the host 'User0'. 'Interfaces' gives us networking information such as the host's ip address, which is randomized each scenario. 'Processes' lets us know any security-relevant processes running on the host that Red knows about; in this case Red begins with a SYSTEM level shell on User0. 'Sessions' lets us know any shells Red is aware of. Again, we can see it only sees its own starting shell. Finally, 'System info' tells us information about the operating system. For example, it is running Windows Server 2008 and has hostname 'User0'.\n",
    "\n",
    "You may notice that 'Interface', 'Processes' and 'Sessions' all have lists as values. This is because a host can and usually will have multiple of these running at the same time.\n",
    "\n",
    "We can now look at Blue's initial observation by calling the get_observation() method. Blue has access to the entire network so its initial observation is huge thus we will initially only print out the keys."
   ]
  },
  {
   "cell_type": "code",
   "execution_count": 17,
   "metadata": {},
   "outputs": [
    {
     "name": "stdout",
     "output_type": "stream",
     "text": [
      "['success', 'Defender', 'Enterprise0', 'Enterprise1', 'Enterprise2', 'Op_Host0', 'Op_Host1', 'Op_Host2', 'Op_Server0', 'User0', 'User1', 'User2', 'User3', 'User4']\n"
     ]
    }
   ],
   "source": [
    "blue_obs = env.get_observation('Blue')\n",
    "\n",
    "print(list(blue_obs.keys()))"
   ]
  },
  {
   "cell_type": "markdown",
   "metadata": {},
   "source": [
    "Printing out Blue's observation for 'User0', we can see it has has a different picture than Red. It has visibility of its own shells, but cannot detect red's."
   ]
  },
  {
   "cell_type": "code",
   "execution_count": 18,
   "metadata": {},
   "outputs": [
    {
     "name": "stdout",
     "output_type": "stream",
     "text": [
      "{'Interface': [{'IP Address': IPv4Address('10.0.239.200'),\n",
      "                'Interface Name': 'eth0',\n",
      "                'Subnet': IPv4Network('10.0.239.192/28')}],\n",
      " 'Processes': [{'PID': 3373, 'Username': 'ubuntu'}],\n",
      " 'Sessions': [{'Agent': 'Blue',\n",
      "               'ID': 1,\n",
      "               'PID': 3373,\n",
      "               'Timeout': 0,\n",
      "               'Type': <SessionType.VELOCIRAPTOR_CLIENT: 7>,\n",
      "               'Username': 'ubuntu'}],\n",
      " 'System info': {'Architecture': <Architecture.x64: 2>,\n",
      "                 'Hostname': 'User0',\n",
      "                 'OSDistribution': <OperatingSystemDistribution.WINDOWS_SVR_2008: 4>,\n",
      "                 'OSType': <OperatingSystemType.WINDOWS: 2>,\n",
      "                 'OSVersion': <OperatingSystemVersion.W6_1_7601: 13>,\n",
      "                 'position': (28, 30)},\n",
      " 'User Info': [{'Groups': [{'GID': 0}], 'Username': 'Administrator'},\n",
      "               {'Username': 'GreenAgent'},\n",
      "               {'Groups': [{'GID': 0}],\n",
      "                'Password': 'vagrant',\n",
      "                'Username': 'vagrant'},\n",
      "               {'Username': 'SYSTEM'}]}\n"
     ]
    }
   ],
   "source": [
    "pprint(blue_obs['User0'])"
   ]
  },
  {
   "cell_type": "markdown",
   "metadata": {},
   "source": [
    "### Red and Blue Observations"
   ]
  },
  {
   "cell_type": "markdown",
   "metadata": {},
   "source": [
    "We will now import a rules-based red agent and run it one step to get a new observation."
   ]
  },
  {
   "cell_type": "code",
   "execution_count": 19,
   "metadata": {},
   "outputs": [
    {
     "name": "stdout",
     "output_type": "stream",
     "text": [
      "action is: {'Red': DiscoverRemoteSystems 10.0.239.192/28}\n",
      "In SimulationController script\n",
      "In shared EnvironmentController script\n",
      "Agent interface: {'Blue': <CybORG.Shared.AgentInterface.AgentInterface object at 0x7f49ae1f26b0>, 'Green': <CybORG.Shared.AgentInterface.AgentInterface object at 0x7f49ae1f10c0>, 'Red': <CybORG.Shared.AgentInterface.AgentInterface object at 0x7f49ae1f2650>}\n",
      "action is: {'Red': DiscoverRemoteSystems 10.0.239.192/28, 'Blue': Sleep, 'Green': Sleep}\n",
      "--> in actions\n",
      "In simcontroller execute action\n",
      "action is: DiscoverRemoteSystems 10.0.239.192/28 its type is: <class 'CybORG.Simulator.Actions.AbstractActions.DiscoverRemoteSystems.DiscoverRemoteSystems'>\n",
      "--> in end turn actions\n",
      "In simcontroller execute action\n",
      "action is: Monitor its type is: <class 'CybORG.Simulator.Actions.AbstractActions.Monitor.Monitor'>\n",
      "--> in observations\n",
      "--> in observations\n",
      "Red Action: DiscoverRemoteSystems 10.0.239.192/28\n",
      "----------------------------------------------------------------------------\n",
      "{'10.0.239.195': {'Interface': [{'IP Address': IPv4Address('10.0.239.195'),\n",
      "                                 'Subnet': IPv4Network('10.0.239.192/28')}]},\n",
      " '10.0.239.197': {'Interface': [{'IP Address': IPv4Address('10.0.239.197'),\n",
      "                                 'Subnet': IPv4Network('10.0.239.192/28')}]},\n",
      " '10.0.239.198': {'Interface': [{'IP Address': IPv4Address('10.0.239.198'),\n",
      "                                 'Subnet': IPv4Network('10.0.239.192/28')}]},\n",
      " '10.0.239.199': {'Interface': [{'IP Address': IPv4Address('10.0.239.199'),\n",
      "                                 'Subnet': IPv4Network('10.0.239.192/28')}]},\n",
      " '10.0.239.200': {'Interface': [{'IP Address': IPv4Address('10.0.239.200'),\n",
      "                                 'Subnet': IPv4Network('10.0.239.192/28')}]},\n",
      " 'success': <TrinaryEnum.TRUE: 1>}\n"
     ]
    }
   ],
   "source": [
    "from CybORG.Agents import B_lineAgent\n",
    "\n",
    "action_space = results.action_space\n",
    "red_obs = results.observation\n",
    "agent = B_lineAgent()\n",
    "\n",
    "def step_red(obs, verbose=True):\n",
    "    action = agent.get_action(obs,action_space)\n",
    "    results = env.step(action=action,agent='Red')\n",
    "    obs = results.observation\n",
    "    \n",
    "    if verbose:\n",
    "        print('Red Action:',action)\n",
    "        print(76*'-')\n",
    "        pprint(obs)\n",
    "    \n",
    "    return results\n",
    "\n",
    "results = step_red(red_obs)\n",
    "red_obs = results.observation"
   ]
  },
  {
   "cell_type": "markdown",
   "metadata": {},
   "source": [
    "We can see that the agent has performed a 'DiscoverRemoteSystems' action. This represents a network scan discovering active ip addresses on a target subnet. Note these are now the hostids.\n",
    "\n",
    "Note that the observation only contains information relevant to the previous action. We no longer have information given by the initial observation. This is because observations are designed to represent the output of real tools used by cybersecurity professionals, which only give extremely limited information at any one time. See the Wrapper tutorial for ways of gluing observations together to form a coherent picture.\n",
    "\n",
    "Meanwhile because we haven't specified a Blue agent, blue team has been passively monitoring the network. However, it doesn't have any tools to detect Red's subnet scan, so its observation is virtually empty."
   ]
  },
  {
   "cell_type": "code",
   "execution_count": 20,
   "metadata": {},
   "outputs": [
    {
     "name": "stdout",
     "output_type": "stream",
     "text": [
      "{'success': <TrinaryEnum.UNKNOWN: 2>}\n"
     ]
    }
   ],
   "source": [
    "print(env.get_observation('Blue'))"
   ]
  },
  {
   "cell_type": "markdown",
   "metadata": {},
   "source": [
    "However, Red's next action is a port scan, which blue is able to detect."
   ]
  },
  {
   "cell_type": "code",
   "execution_count": 21,
   "metadata": {},
   "outputs": [
    {
     "name": "stdout",
     "output_type": "stream",
     "text": [
      "action is: {'Red': DiscoverNetworkServices 10.0.239.198}\n",
      "In SimulationController script\n",
      "In shared EnvironmentController script\n",
      "Agent interface: {'Blue': <CybORG.Shared.AgentInterface.AgentInterface object at 0x7f49ae1f26b0>, 'Green': <CybORG.Shared.AgentInterface.AgentInterface object at 0x7f49ae1f10c0>, 'Red': <CybORG.Shared.AgentInterface.AgentInterface object at 0x7f49ae1f2650>}\n",
      "action is: {'Red': DiscoverNetworkServices 10.0.239.198, 'Blue': Sleep, 'Green': Sleep}\n",
      "--> in actions\n",
      "In simcontroller execute action\n",
      "action is: DiscoverNetworkServices 10.0.239.198 its type is: <class 'CybORG.Simulator.Actions.AbstractActions.DiscoverNetworkServices.DiscoverNetworkServices'>\n",
      "--> in end turn actions\n",
      "In simcontroller execute action\n",
      "action is: Monitor its type is: <class 'CybORG.Simulator.Actions.AbstractActions.Monitor.Monitor'>\n",
      "--> in observations\n",
      "--> in observations\n",
      "Red Action: DiscoverNetworkServices 10.0.239.198\n",
      "----------------------------------------------------------------------------\n",
      "{'10.0.239.198': {'Interface': [{'IP Address': IPv4Address('10.0.239.198')}],\n",
      "                  'Processes': [{'Connections': [{'local_address': IPv4Address('10.0.239.198'),\n",
      "                                                  'local_port': 445}]},\n",
      "                                {'Connections': [{'local_address': IPv4Address('10.0.239.198'),\n",
      "                                                  'local_port': 139}]},\n",
      "                                {'Connections': [{'local_address': IPv4Address('10.0.239.198'),\n",
      "                                                  'local_port': 135}]},\n",
      "                                {'Connections': [{'local_address': IPv4Address('10.0.239.198'),\n",
      "                                                  'local_port': 3389}]}]},\n",
      " 'success': <TrinaryEnum.TRUE: 1>}\n",
      "----------------------------------------------------------------------------\n",
      "Blue Observation:\n",
      "............................................................................\n",
      "{'User2': {'Interface': [{'IP Address': IPv4Address('10.0.239.198')}],\n",
      "           'Processes': [{'Connections': [{'local_address': IPv4Address('10.0.239.198'),\n",
      "                                           'local_port': 445,\n",
      "                                           'remote_address': IPv4Address('10.0.239.200'),\n",
      "                                           'remote_port': 50453}]},\n",
      "                         {'Connections': [{'local_address': IPv4Address('10.0.239.198'),\n",
      "                                           'local_port': 139,\n",
      "                                           'remote_address': IPv4Address('10.0.239.200'),\n",
      "                                           'remote_port': 49496}]},\n",
      "                         {'Connections': [{'local_address': IPv4Address('10.0.239.198'),\n",
      "                                           'local_port': 135,\n",
      "                                           'remote_address': IPv4Address('10.0.239.200'),\n",
      "                                           'remote_port': 53544}]},\n",
      "                         {'Connections': [{'local_address': IPv4Address('10.0.239.198'),\n",
      "                                           'local_port': 3389,\n",
      "                                           'remote_address': IPv4Address('10.0.239.200'),\n",
      "                                           'remote_port': 51671}]}],\n",
      "           'System info': {'Architecture': <Architecture.x64: 2>,\n",
      "                           'Hostname': 'User2',\n",
      "                           'OSDistribution': <OperatingSystemDistribution.WINDOWS_SVR_2008: 4>,\n",
      "                           'OSType': <OperatingSystemType.WINDOWS: 2>,\n",
      "                           'OSVersion': <OperatingSystemVersion.W6_1_7601: 13>,\n",
      "                           'position': (45, 15)}},\n",
      " 'success': <TrinaryEnum.UNKNOWN: 2>}\n",
      "............................................................................\n"
     ]
    }
   ],
   "source": [
    "results = step_red(red_obs)\n",
    "red_obs = results.observation\n",
    "\n",
    "blue_obs = env.get_observation('Blue')\n",
    "print(76*'-')\n",
    "print('Blue Observation:')\n",
    "print(76*'.')\n",
    "pprint(blue_obs)\n",
    "print(76*'.')"
   ]
  },
  {
   "cell_type": "markdown",
   "metadata": {},
   "source": [
    "Both agents' observations are similar: a flurry of connections to a single ip address as the host is scanned for open ports.\n",
    "\n",
    "The next action is an exploit establishing a shell for Red on 'User1'. Again both teams have similar observations, observing the connections generated by this."
   ]
  },
  {
   "cell_type": "code",
   "execution_count": 22,
   "metadata": {},
   "outputs": [
    {
     "name": "stdout",
     "output_type": "stream",
     "text": [
      "action is: {'Red': ExploitRemoteService 10.0.239.198}\n",
      "In SimulationController script\n",
      "In shared EnvironmentController script\n",
      "Agent interface: {'Blue': <CybORG.Shared.AgentInterface.AgentInterface object at 0x7f49ae1f26b0>, 'Green': <CybORG.Shared.AgentInterface.AgentInterface object at 0x7f49ae1f10c0>, 'Red': <CybORG.Shared.AgentInterface.AgentInterface object at 0x7f49ae1f2650>}\n",
      "action is: {'Red': ExploitRemoteService 10.0.239.198, 'Blue': Sleep, 'Green': Sleep}\n",
      "--> in actions\n",
      "In simcontroller execute action\n",
      "action is: ExploitRemoteService 10.0.239.198 its type is: <class 'CybORG.Simulator.Actions.AbstractActions.ExploitRemoteService.ExploitRemoteService'>\n",
      "--> in end turn actions\n",
      "In simcontroller execute action\n",
      "action is: Monitor its type is: <class 'CybORG.Simulator.Actions.AbstractActions.Monitor.Monitor'>\n",
      "--> in observations\n",
      "--> in observations\n",
      "Red Action: ExploitRemoteService 10.0.239.198\n",
      "----------------------------------------------------------------------------\n",
      "{'10.0.239.198': {'Interface': [{'IP Address': IPv4Address('10.0.239.198')}],\n",
      "                  'Processes': [{'Connections': [{'Status': <ProcessState.OPEN: 2>,\n",
      "                                                  'local_address': IPv4Address('10.0.239.198'),\n",
      "                                                  'local_port': 3389}],\n",
      "                                 'Process Type': <ProcessType.RDP: 9>},\n",
      "                                {'Connections': [{'local_address': IPv4Address('10.0.239.198'),\n",
      "                                                  'local_port': 56926,\n",
      "                                                  'remote_address': IPv4Address('10.0.239.200'),\n",
      "                                                  'remote_port': 4444}],\n",
      "                                 'Process Type': <ProcessType.REVERSE_SESSION: 11>}],\n",
      "                  'Sessions': [{'Agent': 'Red',\n",
      "                                'ID': 1,\n",
      "                                'Type': <SessionType.RED_REVERSE_SHELL: 11>}],\n",
      "                  'System info': {'Hostname': 'User2',\n",
      "                                  'OSType': <OperatingSystemType.WINDOWS: 2>}},\n",
      " '10.0.239.200': {'Interface': [{'IP Address': IPv4Address('10.0.239.200')}],\n",
      "                  'Processes': [{'Connections': [{'local_address': IPv4Address('10.0.239.200'),\n",
      "                                                  'local_port': 4444,\n",
      "                                                  'remote_address': IPv4Address('10.0.239.198'),\n",
      "                                                  'remote_port': 56926}],\n",
      "                                 'Process Type': <ProcessType.REVERSE_SESSION_HANDLER: 10>}]},\n",
      " 'success': <TrinaryEnum.TRUE: 1>}\n",
      "----------------------------------------------------------------------------\n",
      "Blue Observation:\n",
      "............................................................................\n",
      "{'User0': {'Interface': [{'IP Address': IPv4Address('10.0.239.198')}],\n",
      "           'Processes': [{'Connections': [{'local_address': IPv4Address('10.0.239.198'),\n",
      "                                           'remote_address': IPv4Address('10.0.239.200'),\n",
      "                                           'remote_port': 3389}]}],\n",
      "           'System info': {'Architecture': <Architecture.x64: 2>,\n",
      "                           'Hostname': 'User0',\n",
      "                           'OSDistribution': <OperatingSystemDistribution.WINDOWS_SVR_2008: 4>,\n",
      "                           'OSType': <OperatingSystemType.WINDOWS: 2>,\n",
      "                           'OSVersion': <OperatingSystemVersion.W6_1_7601: 13>,\n",
      "                           'position': (28, 30)}},\n",
      " 'User2': {'Interface': [{'IP Address': IPv4Address('10.0.239.198')}],\n",
      "           'Processes': [{'Connections': [{'local_address': IPv4Address('10.0.239.198'),\n",
      "                                           'remote_address': IPv4Address('10.0.239.200'),\n",
      "                                           'remote_port': 3389}]},\n",
      "                         {'Connections': [{'local_address': IPv4Address('10.0.239.198'),\n",
      "                                           'local_port': 3389,\n",
      "                                           'remote_address': IPv4Address('10.0.239.200'),\n",
      "                                           'remote_port': 55033}]},\n",
      "                         {'PID': 4413}],\n",
      "           'System info': {'Architecture': <Architecture.x64: 2>,\n",
      "                           'Hostname': 'User2',\n",
      "                           'OSDistribution': <OperatingSystemDistribution.WINDOWS_SVR_2008: 4>,\n",
      "                           'OSType': <OperatingSystemType.WINDOWS: 2>,\n",
      "                           'OSVersion': <OperatingSystemVersion.W6_1_7601: 13>,\n",
      "                           'position': (45, 15)}},\n",
      " 'success': <TrinaryEnum.UNKNOWN: 2>}\n"
     ]
    }
   ],
   "source": [
    "results = step_red(red_obs)\n",
    "red_obs = results.observation\n",
    "\n",
    "blue_obs = env.get_observation('Blue')\n",
    "print(76*'-')\n",
    "print('Blue Observation:')\n",
    "print(76*'.')\n",
    "pprint(blue_obs)"
   ]
  },
  {
   "cell_type": "markdown",
   "metadata": {},
   "source": [
    "Note that there is a 5% chance that Red's exploit fails to register to be detected by Blue."
   ]
  },
  {
   "cell_type": "markdown",
   "metadata": {},
   "source": [
    "The final action in this demo sees Red execute a privilege escalation. Red gets a SYSTEM shell, but Blue is unable to see this activity whatsoever."
   ]
  },
  {
   "cell_type": "code",
   "execution_count": 23,
   "metadata": {},
   "outputs": [
    {
     "name": "stdout",
     "output_type": "stream",
     "text": [
      "action is: {'Red': PrivilegeEscalate User2}\n",
      "In SimulationController script\n",
      "In shared EnvironmentController script\n",
      "Agent interface: {'Blue': <CybORG.Shared.AgentInterface.AgentInterface object at 0x7f49ae1f26b0>, 'Green': <CybORG.Shared.AgentInterface.AgentInterface object at 0x7f49ae1f10c0>, 'Red': <CybORG.Shared.AgentInterface.AgentInterface object at 0x7f49ae1f2650>}\n",
      "action is: {'Red': PrivilegeEscalate User2, 'Blue': Sleep, 'Green': Sleep}\n",
      "--> in actions\n",
      "In simcontroller execute action\n",
      "action is: PrivilegeEscalate User2 its type is: <class 'CybORG.Simulator.Actions.AbstractActions.PrivilegeEscalate.PrivilegeEscalate'>\n",
      "--> in end turn actions\n",
      "In simcontroller execute action\n",
      "action is: Monitor its type is: <class 'CybORG.Simulator.Actions.AbstractActions.Monitor.Monitor'>\n",
      "--> in observations\n",
      "--> in observations\n",
      "Red Action: PrivilegeEscalate User2\n",
      "----------------------------------------------------------------------------\n",
      "{'Enterprise1': {'Interface': [{'IP Address': IPv4Address('10.0.49.17')}]},\n",
      " 'User2': {'Interface': [{'IP Address': IPv4Address('10.0.239.198'),\n",
      "                          'Interface Name': 'eth0',\n",
      "                          'Subnet': IPv4Network('10.0.239.192/28')}],\n",
      "           'Sessions': [{'Agent': 'Red',\n",
      "                         'ID': 1,\n",
      "                         'Type': <SessionType.RED_REVERSE_SHELL: 11>,\n",
      "                         'Username': 'SYSTEM'}]},\n",
      " 'success': <TrinaryEnum.TRUE: 1>}\n",
      "----------------------------------------------------------------------------\n",
      "Blue Observation:\n",
      "............................................................................\n",
      "{'success': <TrinaryEnum.UNKNOWN: 2>}\n"
     ]
    }
   ],
   "source": [
    "results = step_red(red_obs)\n",
    "red_obs = results.observation\n",
    "\n",
    "blue_obs = env.get_observation('Blue')\n",
    "print(76*'-')\n",
    "print('Blue Observation:')\n",
    "print(76*'.')\n",
    "pprint(blue_obs)"
   ]
  },
  {
   "cell_type": "markdown",
   "metadata": {},
   "source": [
    "Fortunately for Blue, Red's Privilege Escalation leaves malware on the system which can be detected using the Analyse action."
   ]
  },
  {
   "cell_type": "code",
   "execution_count": 24,
   "metadata": {},
   "outputs": [
    {
     "name": "stdout",
     "output_type": "stream",
     "text": [
      "action is: {'Blue': Analyse User2}\n",
      "In SimulationController script\n",
      "In shared EnvironmentController script\n",
      "Agent interface: {'Blue': <CybORG.Shared.AgentInterface.AgentInterface object at 0x7f49ae1f26b0>, 'Green': <CybORG.Shared.AgentInterface.AgentInterface object at 0x7f49ae1f10c0>, 'Red': <CybORG.Shared.AgentInterface.AgentInterface object at 0x7f49ae1f2650>}\n",
      "action is: {'Blue': Analyse User2, 'Green': Sleep, 'Red': Sleep}\n",
      "--> in actions\n",
      "In simcontroller execute action\n",
      "action is: Analyse User2 its type is: <class 'CybORG.Simulator.Actions.AbstractActions.Analyse.Analyse'>\n",
      "--> in end turn actions\n",
      "In simcontroller execute action\n",
      "action is: Monitor its type is: <class 'CybORG.Simulator.Actions.AbstractActions.Monitor.Monitor'>\n",
      "--> in observations\n",
      "{'User2': {'Files': [{'Density': 0.9,\n",
      "                      'File Name': 'cmd.exe',\n",
      "                      'Known File': <FileType.UNKNOWN: 1>,\n",
      "                      'Known Path': <Path.TEMP: 5>,\n",
      "                      'Path': 'C:\\\\temp\\\\',\n",
      "                      'Signed': False},\n",
      "                     {'Density': 0.9,\n",
      "                      'File Name': 'escalate.exe',\n",
      "                      'Known File': <FileType.UNKNOWN: 1>,\n",
      "                      'Known Path': <Path.TEMP: 5>,\n",
      "                      'Path': 'C:\\\\temp\\\\',\n",
      "                      'Signed': False}]},\n",
      " 'success': <TrinaryEnum.TRUE: 1>}\n"
     ]
    }
   ],
   "source": [
    "from CybORG.Simulator.Actions import Analyse\n",
    "\n",
    "host = env.get_last_action('Red').hostname\n",
    "action = Analyse(session=0,agent='Blue',hostname=host)\n",
    "\n",
    "results = env.step(action=action,agent='Blue')\n",
    "\n",
    "pprint(results.observation)"
   ]
  },
  {
   "cell_type": "markdown",
   "metadata": {},
   "source": [
    "Here we see 'User1' has a 'Files' key. The correspending dictionary has been passed through a tool and the 'Density' parameter indicates a high probability this is malware."
   ]
  },
  {
   "cell_type": "code",
   "execution_count": null,
   "metadata": {},
   "outputs": [],
   "source": []
  }
 ],
 "metadata": {
  "kernelspec": {
   "display_name": "Python 3 (ipykernel)",
   "language": "python",
   "name": "python3"
  },
  "language_info": {
   "codemirror_mode": {
    "name": "ipython",
    "version": 3
   },
   "file_extension": ".py",
   "mimetype": "text/x-python",
   "name": "python",
   "nbconvert_exporter": "python",
   "pygments_lexer": "ipython3",
   "version": "3.10.12"
  }
 },
 "nbformat": 4,
 "nbformat_minor": 4
}
