{
 "cells": [
  {
   "cell_type": "markdown",
   "id": "a179d7ab",
   "metadata": {},
   "source": [
    "#### A 3 node experiment to demonstrate the network simulation and attack process in cyborg"
   ]
  },
  {
   "cell_type": "code",
   "execution_count": 1,
   "id": "6f3a9e3b",
   "metadata": {},
   "outputs": [
    {
     "name": "stderr",
     "output_type": "stream",
     "text": [
      "/home/ubuntu/.local/lib/python3.10/site-packages/gym/wrappers/monitoring/video_recorder.py:9: DeprecationWarning: The distutils package is deprecated and slated for removal in Python 3.12. Use setuptools or check PEP 632 for potential alternatives\n",
      "  import distutils.spawn\n"
     ]
    },
    {
     "name": "stdout",
     "output_type": "stream",
     "text": [
      "path is: /home/ubuntu/test/CybORG/CybORG/env.py\n",
      "Scenario file path is: /home/ubuntu/test/CybORG/CybORG/Simulator/Scenarios/scenario_files/Scenario_3nodes.yaml\n",
      "env is: sim\n",
      "==> IP map of network is:\n",
      "{'User0': IPv4Address('10.0.145.2'),\n",
      " 'User1': IPv4Address('10.0.145.14'),\n",
      " 'User_router': IPv4Address('10.0.145.4')}\n",
      "-> user ip to attack is: 10.0.145.2\n"
     ]
    },
    {
     "name": "stderr",
     "output_type": "stream",
     "text": [
      "/home/ubuntu/.local/lib/python3.10/site-packages/gym/utils/seeding.py:47: DeprecationWarning: \u001b[33mWARN: Function `rng.randint(low, [high, size, dtype])` is marked as deprecated and will be removed in the future. Please use `rng.integers(low, [high, size, dtype])` instead.\u001b[0m\n",
      "  deprecation(\n"
     ]
    }
   ],
   "source": [
    "import random\n",
    "from os.path import dirname\n",
    "from pprint import pprint\n",
    "import inspect\n",
    "from CybORG import CybORG\n",
    "from CybORG.Simulator.Scenarios import FileReaderScenarioGenerator\n",
    "from CybORG.Simulator.Actions import *\n",
    "\n",
    "\n",
    "path = str(inspect.getfile(CybORG))\n",
    "path= dirname(path) + f'/Simulator/Scenarios/scenario_files/Scenario_3nodes.yaml'\n",
    "# path = f'C:/Users/HPP/Desktop/cyborg/vu_cyborg/CybORG/CybORG/Simulator/Scenarios/scenario_files/Scenario_3nodes.yaml'\n",
    "sg = FileReaderScenarioGenerator(path)\n",
    "print('Scenario file path is:',path)\n",
    "\n",
    "env = CybORG(scenario_generator=sg)\n",
    "#pprint(dir(env))\n",
    "\n",
    "#pprint('IP map of network is:',env.get_ip_map())\n",
    "#pprint('Red agent state is:',env.get_agent_state('Red'))\n",
    "#pprint('Red agent action space is:',env.get_action_space('Red'))\n",
    "print('==> IP map of network is:')\n",
    "pprint(env.get_ip_map())\n",
    "\n",
    "\n",
    "\n",
    "ips= env.get_ip_map()\n",
    "userip= ips['User0']\n",
    "print('-> user ip to attack is:',userip)\n",
    "\n",
    "\n",
    "\n",
    "\n",
    "\n",
    "#results = env.reset(agent='Red')\n",
    "#agent = B_lineAgent()\n",
    "\n",
    "#for step in range(30):\n",
    "#    action = agent.get_action(results.observation,results.action_space)\n",
    "#    #print('Action is:',action)\n",
    "#    results = cyborg.step(action=action, agent='Red')\n",
    "#    #print(results.reward) "
   ]
  },
  {
   "cell_type": "code",
   "execution_count": 6,
   "id": "2e9af811-e901-4eba-ac89-f0775a59722a",
   "metadata": {},
   "outputs": [],
   "source": [
    "info_dict = env.environment_controller.INFO_DICT"
   ]
  },
  {
   "cell_type": "code",
   "execution_count": 7,
   "id": "105b144f-cf02-4043-83a4-586ba17ec6f2",
   "metadata": {},
   "outputs": [
    {
     "name": "stdout",
     "output_type": "stream",
     "text": [
      "{'Red': {'User0': {'Interfaces': 'All',\n",
      "                   'Sessions': 'Red',\n",
      "                   'System info': 'All'}},\n",
      " 'True': {'User0': {'Interfaces': 'All',\n",
      "                    'Processes': ['All'],\n",
      "                    'Sessions': 'All',\n",
      "                    'System info': 'All',\n",
      "                    'User info': 'All'},\n",
      "          'User1': {'Interfaces': 'All',\n",
      "                    'Processes': ['All'],\n",
      "                    'Sessions': 'All',\n",
      "                    'System info': 'All',\n",
      "                    'User info': 'All'},\n",
      "          'User_router': {'Interfaces': 'All',\n",
      "                          'Processes': ['All'],\n",
      "                          'Sessions': 'All',\n",
      "                          'System info': 'All',\n",
      "                          'User info': 'All'}}}\n"
     ]
    }
   ],
   "source": [
    "pprint(info_dict)"
   ]
  },
  {
   "cell_type": "markdown",
   "id": "ed8a0b0f",
   "metadata": {},
   "source": [
    "##### Observed state from the perspective of red agent"
   ]
  },
  {
   "cell_type": "code",
   "execution_count": 8,
   "id": "15f5f43e",
   "metadata": {},
   "outputs": [
    {
     "name": "stdout",
     "output_type": "stream",
     "text": [
      "==> Red Agents observed state  is:\n",
      "{'User0': {'Interface': [{'IP Address': IPv4Address('10.0.145.2'),\n",
      "                          'Interface Name': 'eth0',\n",
      "                          'Subnet': IPv4Network('10.0.145.0/28')}],\n",
      "           'Processes': [{'PID': 3373, 'Username': 'SYSTEM'}],\n",
      "           'Sessions': [{'Agent': 'Red',\n",
      "                         'ID': 0,\n",
      "                         'PID': 3373,\n",
      "                         'Timeout': 0,\n",
      "                         'Type': <SessionType.RED_ABSTRACT_SESSION: 10>,\n",
      "                         'Username': 'SYSTEM'}],\n",
      "           'System info': {'Architecture': <Architecture.x64: 2>,\n",
      "                           'Hostname': 'User0',\n",
      "                           'OSDistribution': <OperatingSystemDistribution.WINDOWS_SVR_2008: 4>,\n",
      "                           'OSType': <OperatingSystemType.WINDOWS: 2>,\n",
      "                           'OSVersion': <OperatingSystemVersion.W6_1_7601: 13>,\n",
      "                           'position': array([0., 0.])}},\n",
      " 'success': <TrinaryEnum.UNKNOWN: 2>}\n"
     ]
    }
   ],
   "source": [
    "print('==> Red Agents observed state  is:')\n",
    "pprint(env.get_agent_state('Red'))"
   ]
  },
  {
   "cell_type": "markdown",
   "id": "a6f34574",
   "metadata": {},
   "source": [
    "#### Action space to the red agent:"
   ]
  },
  {
   "cell_type": "code",
   "execution_count": 9,
   "id": "60169a6e",
   "metadata": {
    "scrolled": true
   },
   "outputs": [
    {
     "name": "stdout",
     "output_type": "stream",
     "text": [
      "==> Red Agent action space is:\n",
      "{'action': {<class 'CybORG.Simulator.Actions.Action.Sleep'>: True,\n",
      "            <class 'CybORG.Simulator.Actions.AbstractActions.DiscoverRemoteSystems.DiscoverRemoteSystems'>: True,\n",
      "            <class 'CybORG.Simulator.Actions.AbstractActions.DiscoverNetworkServices.DiscoverNetworkServices'>: True,\n",
      "            <class 'CybORG.Simulator.Actions.AbstractActions.ExploitRemoteService.ExploitRemoteService'>: True},\n",
      " 'agent': {'Red': True},\n",
      " 'hostname': {'User0': True, 'User1': False, 'User_router': False},\n",
      " 'ip_address': {IPv4Address('10.0.145.2'): True,\n",
      "                IPv4Address('10.0.145.4'): False,\n",
      "                IPv4Address('10.0.145.14'): False},\n",
      " 'password': {'raspberry': False, 'vagrant': False},\n",
      " 'port': {21: False, 22: False, 25: False, 80: False, 443: False, 3390: False},\n",
      " 'process': {1091: False,\n",
      "             1100: False,\n",
      "             1101: False,\n",
      "             1102: False,\n",
      "             3344: False,\n",
      "             3368: False,\n",
      "             3373: True},\n",
      " 'session': {0: True},\n",
      " 'subnet': {IPv4Network('10.0.145.0/28'): True},\n",
      " 'target_session': {0: True,\n",
      "                    1: False,\n",
      "                    2: False,\n",
      "                    3: False,\n",
      "                    4: False,\n",
      "                    5: False,\n",
      "                    6: False,\n",
      "                    7: False},\n",
      " 'username': {'Administrator': False,\n",
      "              'GreenAgent': False,\n",
      "              'SYSTEM': False,\n",
      "              'pi': False,\n",
      "              'root': False,\n",
      "              'ubuntu': False,\n",
      "              'vagrant': False,\n",
      "              'www-data': False}}\n"
     ]
    }
   ],
   "source": [
    "print('==> Red Agent action space is:')\n",
    "pprint(env.get_action_space('Red'))\n"
   ]
  },
  {
   "cell_type": "markdown",
   "id": "4bc2008c-24d5-4820-8bf0-9b8acf0715b5",
   "metadata": {
    "jp-MarkdownHeadingCollapsed": true
   },
   "source": [
    "#### Observation space to the red agent:"
   ]
  },
  {
   "cell_type": "code",
   "execution_count": null,
   "id": "3c14d83c-2880-4186-9828-8624da71c59c",
   "metadata": {},
   "outputs": [],
   "source": [
    "print('==> Red Agent observation space is:')\n",
    "pprint(env.get_observation_space('Red'))"
   ]
  },
  {
   "cell_type": "markdown",
   "id": "0289480d",
   "metadata": {},
   "source": [
    "#### Attack action : DiscoverRemoteServices\n",
    "It allow the red agent to identify services on a host as a prerequisite for running an exploit.\n",
    "It Calls the low level action 'PortScan' then modifies the observation. The outcome is all open ports running on the host.  It must be used on a host to successfully run the high level action ExploitRemoteServices. \n"
   ]
  },
  {
   "cell_type": "code",
   "execution_count": 10,
   "id": "5d079ef3",
   "metadata": {},
   "outputs": [
    {
     "name": "stdout",
     "output_type": "stream",
     "text": [
      "action is: {'Red': DiscoverNetworkServices 10.0.145.2}\n",
      "In SimulationController script\n",
      "In shared EnvironmentController script\n",
      "Agent interface: {'Red': <CybORG.Shared.AgentInterface.AgentInterface object at 0x7f5102950250>}\n",
      "action is: {'Red': DiscoverNetworkServices 10.0.145.2}\n",
      "--> in actions\n",
      "In simcontroller execute action\n",
      "action is: DiscoverNetworkServices 10.0.145.2 its type is: <class 'CybORG.Simulator.Actions.AbstractActions.DiscoverNetworkServices.DiscoverNetworkServices'>\n",
      "--> in observations\n",
      "==> Red agent state after discover network services attack:\n",
      "{'10.0.145.2': {'Interface': [{'IP Address': IPv4Address('10.0.145.2')}],\n",
      "                'Processes': [{'Connections': [{'local_address': IPv4Address('10.0.145.2'),\n",
      "                                                'local_port': 22}]},\n",
      "                              {'Connections': [{'local_address': IPv4Address('10.0.145.2'),\n",
      "                                                'local_port': 21}]}]},\n",
      " 'success': <TrinaryEnum.TRUE: 1>}\n"
     ]
    }
   ],
   "source": [
    "#creating and executing port discovery attack on user network \n",
    "action = DiscoverNetworkServices(session=0,agent='Red',ip_address=userip)\n",
    "results = env.step(action=action,agent='Red')\n",
    "print('==> Red agent state after discover network services attack:')\n",
    "pprint(results.observation)"
   ]
  },
  {
   "cell_type": "code",
   "execution_count": 11,
   "id": "88a06664",
   "metadata": {},
   "outputs": [
    {
     "ename": "TypeError",
     "evalue": "DiscoverRemoteSystems.__init__() missing 1 required positional argument: 'subnet'",
     "output_type": "error",
     "traceback": [
      "\u001b[0;31m---------------------------------------------------------------------------\u001b[0m",
      "\u001b[0;31mTypeError\u001b[0m                                 Traceback (most recent call last)",
      "Cell \u001b[0;32mIn[11], line 2\u001b[0m\n\u001b[1;32m      1\u001b[0m \u001b[38;5;66;03m#creating and executing port discovery attack on user network \u001b[39;00m\n\u001b[0;32m----> 2\u001b[0m action \u001b[38;5;241m=\u001b[39m \u001b[43mDiscoverRemoteSystems\u001b[49m\u001b[43m(\u001b[49m\u001b[43msession\u001b[49m\u001b[38;5;241;43m=\u001b[39;49m\u001b[38;5;241;43m0\u001b[39;49m\u001b[43m,\u001b[49m\u001b[43magent\u001b[49m\u001b[38;5;241;43m=\u001b[39;49m\u001b[38;5;124;43m'\u001b[39;49m\u001b[38;5;124;43mRed\u001b[39;49m\u001b[38;5;124;43m'\u001b[39;49m\u001b[43m)\u001b[49m\n\u001b[1;32m      3\u001b[0m results \u001b[38;5;241m=\u001b[39m env\u001b[38;5;241m.\u001b[39mstep(action\u001b[38;5;241m=\u001b[39maction,agent\u001b[38;5;241m=\u001b[39m\u001b[38;5;124m'\u001b[39m\u001b[38;5;124mRed\u001b[39m\u001b[38;5;124m'\u001b[39m)\n\u001b[1;32m      4\u001b[0m \u001b[38;5;28mprint\u001b[39m(\u001b[38;5;124m'\u001b[39m\u001b[38;5;124m==> Red agent state after discover network services attack:\u001b[39m\u001b[38;5;124m'\u001b[39m)\n",
      "\u001b[0;31mTypeError\u001b[0m: DiscoverRemoteSystems.__init__() missing 1 required positional argument: 'subnet'"
     ]
    }
   ],
   "source": [
    "#creating and executing port discovery attack on user network \n",
    "action = DiscoverRemoteSystems(session=0,agent='Red')\n",
    "results = env.step(action=action,agent='Red')\n",
    "print('==> Red agent state after discover network services attack:')\n",
    "pprint(results.observation)"
   ]
  },
  {
   "cell_type": "markdown",
   "id": "de5bd2b6",
   "metadata": {},
   "source": [
    "#### Attack action : ExploitRemoteServices\n",
    "It allow the red agent to examines the target host and returns a selected applicable escalate action if any, as well as processes that are required to be genuine."
   ]
  },
  {
   "cell_type": "code",
   "execution_count": 12,
   "id": "53855a13",
   "metadata": {},
   "outputs": [
    {
     "name": "stdout",
     "output_type": "stream",
     "text": [
      "action is: {'Red': ExploitRemoteService 10.0.145.2}\n",
      "In SimulationController script\n",
      "In shared EnvironmentController script\n",
      "Agent interface: {'Red': <CybORG.Shared.AgentInterface.AgentInterface object at 0x7f5102950250>}\n",
      "action is: {'Red': ExploitRemoteService 10.0.145.2}\n",
      "--> in actions\n",
      "In simcontroller execute action\n",
      "action is: ExploitRemoteService 10.0.145.2 its type is: <class 'CybORG.Simulator.Actions.AbstractActions.ExploitRemoteService.ExploitRemoteService'>\n",
      "--> in observations\n",
      "==> Red agent state after exploit attack:\n",
      "{'10.0.145.2': {'Interface': [{'IP Address': IPv4Address('10.0.145.2')}],\n",
      "                'Processes': [{'Connections': [{'Status': <ProcessState.OPEN: 2>,\n",
      "                                                'local_address': IPv4Address('10.0.145.2'),\n",
      "                                                'local_port': 22}],\n",
      "                               'Process Type': <ProcessType.SSH: 2>},\n",
      "                              {'Connections': [{'local_address': IPv4Address('10.0.145.2'),\n",
      "                                                'local_port': 51253,\n",
      "                                                'remote_address': IPv4Address('10.0.145.2'),\n",
      "                                                'remote_port': 22}]},\n",
      "                              {'Connections': [{'local_address': IPv4Address('10.0.145.2'),\n",
      "                                                'local_port': 22,\n",
      "                                                'remote_address': IPv4Address('10.0.145.2'),\n",
      "                                                'remote_port': 51253}],\n",
      "                               'Process Type': <ProcessType.SSH: 2>}],\n",
      "                'Sessions': [{'Agent': 'Red',\n",
      "                              'ID': 1,\n",
      "                              'Type': <SessionType.SSH: 2>,\n",
      "                              'Username': 'vagrant'}],\n",
      "                'System info': {'Hostname': 'User0',\n",
      "                                'OSType': <OperatingSystemType.WINDOWS: 2>}},\n",
      " 'success': <TrinaryEnum.TRUE: 1>}\n"
     ]
    }
   ],
   "source": [
    "#creating and executing attack on user network (can we attack on router? -dont know)\n",
    "action = ExploitRemoteService(ip_address=userip,session=0,agent='Red')\n",
    "results = env.step(action=action,agent='Red')\n",
    "print('==> Red agent state after exploit attack:')\n",
    "pprint(results.observation)"
   ]
  },
  {
   "cell_type": "code",
   "execution_count": null,
   "id": "bb524845",
   "metadata": {},
   "outputs": [],
   "source": [
    "## to do : Imapct and many things etc... "
   ]
  },
  {
   "cell_type": "code",
   "execution_count": null,
   "id": "f53c5312",
   "metadata": {},
   "outputs": [],
   "source": []
  }
 ],
 "metadata": {
  "kernelspec": {
   "display_name": "Python 3 (ipykernel)",
   "language": "python",
   "name": "python3"
  },
  "language_info": {
   "codemirror_mode": {
    "name": "ipython",
    "version": 3
   },
   "file_extension": ".py",
   "mimetype": "text/x-python",
   "name": "python",
   "nbconvert_exporter": "python",
   "pygments_lexer": "ipython3",
   "version": "3.10.12"
  }
 },
 "nbformat": 4,
 "nbformat_minor": 5
}
